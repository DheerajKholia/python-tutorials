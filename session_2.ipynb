{
  "nbformat": 4,
  "nbformat_minor": 0,
  "metadata": {
    "colab": {
      "provenance": []
    },
    "kernelspec": {
      "name": "python3",
      "display_name": "Python 3"
    },
    "language_info": {
      "name": "python"
    }
  },
  "cells": [
    {
      "cell_type": "markdown",
      "source": [
        "**Variable Data types & Operators**"
      ],
      "metadata": {
        "id": "OJ8V38ZJQSs3"
      }
    },
    {
      "cell_type": "code",
      "source": [
        "my_name = 'John'\n",
        "print(my_name)\n",
        "\n",
        "my_name = \"John\"\n",
        "print(my_name)\n",
        "\n",
        "my_name = '''John'''\n",
        "print(my_name)\n",
        "\n"
      ],
      "metadata": {
        "colab": {
          "base_uri": "https://localhost:8080/"
        },
        "id": "1K_h9BO7QZGo",
        "outputId": "7172c011-706d-4aee-9836-1080c3fecedc"
      },
      "execution_count": null,
      "outputs": [
        {
          "output_type": "stream",
          "name": "stdout",
          "text": [
            "John\n",
            "John\n",
            "John\n"
          ]
        }
      ]
    },
    {
      "cell_type": "code",
      "source": [
        "my_name = 'John's glasses'\n",
        "print(my_name)"
      ],
      "metadata": {
        "colab": {
          "base_uri": "https://localhost:8080/",
          "height": 106
        },
        "id": "WOW5Utz5SC5r",
        "outputId": "41b78646-dd96-4568-fe71-93011be1c5bf"
      },
      "execution_count": null,
      "outputs": [
        {
          "output_type": "error",
          "ename": "SyntaxError",
          "evalue": "unterminated string literal (detected at line 1) (<ipython-input-12-96fab2c40075>, line 1)",
          "traceback": [
            "\u001b[0;36m  File \u001b[0;32m\"<ipython-input-12-96fab2c40075>\"\u001b[0;36m, line \u001b[0;32m1\u001b[0m\n\u001b[0;31m    my_name = 'John's glasses'\u001b[0m\n\u001b[0m                             ^\u001b[0m\n\u001b[0;31mSyntaxError\u001b[0m\u001b[0;31m:\u001b[0m unterminated string literal (detected at line 1)\n"
          ]
        }
      ]
    },
    {
      "cell_type": "code",
      "source": [
        "my_name = \"Amit's glasesses\"\n",
        "print(my_name)"
      ],
      "metadata": {
        "colab": {
          "base_uri": "https://localhost:8080/"
        },
        "id": "utv5d3whRG9_",
        "outputId": "6e40373c-9bbe-4c53-d936-d54311392f23"
      },
      "execution_count": null,
      "outputs": [
        {
          "output_type": "stream",
          "name": "stdout",
          "text": [
            "Amit's glasesses\n"
          ]
        }
      ]
    },
    {
      "cell_type": "code",
      "source": [
        "a = True\n",
        "print(type(a))\n",
        "print(int(a)) # internally True is 1 and False is 0 in python"
      ],
      "metadata": {
        "colab": {
          "base_uri": "https://localhost:8080/"
        },
        "id": "wP8h6I-7RTiI",
        "outputId": "a48857b0-4ee8-4ba4-8c9c-3b5de67dfec8"
      },
      "execution_count": null,
      "outputs": [
        {
          "output_type": "stream",
          "name": "stdout",
          "text": [
            "<class 'bool'>\n",
            "1\n"
          ]
        }
      ]
    },
    {
      "cell_type": "code",
      "source": [
        "from contextlib import nullcontext\n",
        "## any non zero value is type casted as bool True\n",
        "a = 123\n",
        "print(bool(a))\n",
        "\n",
        "b = '0123'\n",
        "# print(int(b))\n",
        "print(bool(b))\n",
        "\n",
        "c= 'abc'\n",
        "print(bool(c))\n",
        "\n",
        "d= None #casts to bool False\n",
        "print(bool(d))"
      ],
      "metadata": {
        "colab": {
          "base_uri": "https://localhost:8080/"
        },
        "id": "YqpshVy4RlQX",
        "outputId": "26a233fc-5fa2-416a-da09-1ce8722dfc64"
      },
      "execution_count": null,
      "outputs": [
        {
          "output_type": "stream",
          "name": "stdout",
          "text": [
            "True\n",
            "True\n",
            "True\n",
            "False\n"
          ]
        }
      ]
    },
    {
      "cell_type": "markdown",
      "source": [
        "**Comparison**"
      ],
      "metadata": {
        "id": "NbpsRi9oT25V"
      }
    },
    {
      "cell_type": "code",
      "source": [
        "a = True\n",
        "b = False\n",
        "a == b"
      ],
      "metadata": {
        "colab": {
          "base_uri": "https://localhost:8080/"
        },
        "id": "s6_BSHG3T5ng",
        "outputId": "de51dc1f-06a0-4732-f211-20a0873f6c52"
      },
      "execution_count": null,
      "outputs": [
        {
          "output_type": "execute_result",
          "data": {
            "text/plain": [
              "False"
            ]
          },
          "metadata": {},
          "execution_count": 16
        }
      ]
    },
    {
      "cell_type": "code",
      "source": [
        "a != b"
      ],
      "metadata": {
        "colab": {
          "base_uri": "https://localhost:8080/"
        },
        "id": "6k-yYJGFT_0G",
        "outputId": "527ee395-5884-4070-c80b-1c18950b2de0"
      },
      "execution_count": null,
      "outputs": [
        {
          "output_type": "execute_result",
          "data": {
            "text/plain": [
              "True"
            ]
          },
          "metadata": {},
          "execution_count": 17
        }
      ]
    },
    {
      "cell_type": "code",
      "source": [
        "a == 1\n",
        "b == 0"
      ],
      "metadata": {
        "colab": {
          "base_uri": "https://localhost:8080/"
        },
        "id": "MheDu6HkUCj4",
        "outputId": "39051540-ca57-46d0-c400-c9912640c80b"
      },
      "execution_count": null,
      "outputs": [
        {
          "output_type": "execute_result",
          "data": {
            "text/plain": [
              "True"
            ]
          },
          "metadata": {},
          "execution_count": 19
        }
      ]
    },
    {
      "cell_type": "code",
      "source": [
        "a= 1\n",
        "b = '1'\n",
        "a==b"
      ],
      "metadata": {
        "colab": {
          "base_uri": "https://localhost:8080/"
        },
        "id": "cL70ifCrVaae",
        "outputId": "971b353b-d448-4c92-8344-5d6202388c75"
      },
      "execution_count": null,
      "outputs": [
        {
          "output_type": "execute_result",
          "data": {
            "text/plain": [
              "False"
            ]
          },
          "metadata": {},
          "execution_count": 20
        }
      ]
    },
    {
      "cell_type": "code",
      "source": [
        "1<2 and 2<3"
      ],
      "metadata": {
        "colab": {
          "base_uri": "https://localhost:8080/"
        },
        "id": "eS0ClFGXVm5Y",
        "outputId": "29c9ccd4-673f-4be8-b45a-f87b07bf39a3"
      },
      "execution_count": null,
      "outputs": [
        {
          "output_type": "execute_result",
          "data": {
            "text/plain": [
              "True"
            ]
          },
          "metadata": {},
          "execution_count": 22
        }
      ]
    },
    {
      "cell_type": "code",
      "source": [
        "1<2<3 # is equivalent to 1<2 and 2<3"
      ],
      "metadata": {
        "colab": {
          "base_uri": "https://localhost:8080/"
        },
        "id": "tMYE1tMNVrqX",
        "outputId": "f7234883-b0be-4d44-9694-d5a94ffb242c"
      },
      "execution_count": null,
      "outputs": [
        {
          "output_type": "execute_result",
          "data": {
            "text/plain": [
              "True"
            ]
          },
          "metadata": {},
          "execution_count": 23
        }
      ]
    },
    {
      "cell_type": "markdown",
      "source": [
        "**Numeric**"
      ],
      "metadata": {
        "id": "CXwz3NT_WCtH"
      }
    },
    {
      "cell_type": "code",
      "source": [
        "## operation with int and float results in float\n",
        "x = 2\n",
        "y = 5.0\n",
        "x+y"
      ],
      "metadata": {
        "colab": {
          "base_uri": "https://localhost:8080/"
        },
        "id": "HfsOSB85WHNW",
        "outputId": "7f3a513f-f65b-497b-96d4-45bd0463c31e"
      },
      "execution_count": null,
      "outputs": [
        {
          "output_type": "execute_result",
          "data": {
            "text/plain": [
              "7.0"
            ]
          },
          "metadata": {},
          "execution_count": 27
        }
      ]
    },
    {
      "cell_type": "code",
      "source": [
        "# divison of even two int results in float\n",
        "x= 4\n",
        "y=2\n",
        "x/y"
      ],
      "metadata": {
        "colab": {
          "base_uri": "https://localhost:8080/"
        },
        "id": "HrxpQmiSWVnL",
        "outputId": "8268fa33-3584-4ab5-93f3-35ff6a826966"
      },
      "execution_count": null,
      "outputs": [
        {
          "output_type": "execute_result",
          "data": {
            "text/plain": [
              "2.0"
            ]
          },
          "metadata": {},
          "execution_count": 26
        }
      ]
    },
    {
      "cell_type": "markdown",
      "source": [
        "**String**"
      ],
      "metadata": {
        "id": "zITHTrkUXTwv"
      }
    },
    {
      "cell_type": "code",
      "source": [
        "lang1 ='Python'\n",
        "lang2 = \"Python\"\n",
        "lang3 = '''Python'''\n",
        "lang4 = \"\"\"Python\"\"\"\n"
      ],
      "metadata": {
        "id": "EAPj8yVHXWcx"
      },
      "execution_count": null,
      "outputs": []
    },
    {
      "cell_type": "code",
      "source": [
        "lang1 == lang2 ==lang3 == lang4"
      ],
      "metadata": {
        "colab": {
          "base_uri": "https://localhost:8080/"
        },
        "id": "wMTY5Qp5Xio9",
        "outputId": "d165fc35-084c-48c1-d909-0b76aa25075b"
      },
      "execution_count": null,
      "outputs": [
        {
          "output_type": "execute_result",
          "data": {
            "text/plain": [
              "True"
            ]
          },
          "metadata": {},
          "execution_count": 29
        }
      ]
    },
    {
      "cell_type": "code",
      "source": [
        "my_text = '''\n",
        "wgvhbxjkwh;wwb\n",
        "cbwbw;w\n",
        "cchjnk\n",
        "'''\n",
        "print(my_text)"
      ],
      "metadata": {
        "colab": {
          "base_uri": "https://localhost:8080/"
        },
        "id": "VxlrE0zjX2Zr",
        "outputId": "82875741-6e31-4702-e658-8fb0fe405e31"
      },
      "execution_count": null,
      "outputs": [
        {
          "output_type": "stream",
          "name": "stdout",
          "text": [
            "\n",
            "wgvhbxjkwh;wwb\n",
            "cbwbw;w\n",
            "cchjnk\n",
            "\n"
          ]
        }
      ]
    },
    {
      "cell_type": "code",
      "source": [
        "my_text = '\n",
        "wgvhbxjkwh;wwb\n",
        "cbwbw;w\n",
        "cchjnk\n",
        "'\n",
        "print(my_text)"
      ],
      "metadata": {
        "colab": {
          "base_uri": "https://localhost:8080/",
          "height": 106
        },
        "id": "1-3z7gMKX9Rd",
        "outputId": "ff9d4a55-3a0e-4aa0-d533-9b6c39f1d741"
      },
      "execution_count": null,
      "outputs": [
        {
          "output_type": "error",
          "ename": "SyntaxError",
          "evalue": "unterminated string literal (detected at line 1) (<ipython-input-32-651bc2751a6b>, line 1)",
          "traceback": [
            "\u001b[0;36m  File \u001b[0;32m\"<ipython-input-32-651bc2751a6b>\"\u001b[0;36m, line \u001b[0;32m1\u001b[0m\n\u001b[0;31m    my_text = '\u001b[0m\n\u001b[0m              ^\u001b[0m\n\u001b[0;31mSyntaxError\u001b[0m\u001b[0;31m:\u001b[0m unterminated string literal (detected at line 1)\n"
          ]
        }
      ]
    },
    {
      "cell_type": "code",
      "source": [
        "a = '5'\n",
        "b = '7'\n",
        "a+b"
      ],
      "metadata": {
        "colab": {
          "base_uri": "https://localhost:8080/",
          "height": 35
        },
        "id": "V7rnWprnYIJ5",
        "outputId": "23a105a5-df06-4314-e84a-f66f731b0239"
      },
      "execution_count": null,
      "outputs": [
        {
          "output_type": "execute_result",
          "data": {
            "text/plain": [
              "'57'"
            ],
            "application/vnd.google.colaboratory.intrinsic+json": {
              "type": "string"
            }
          },
          "metadata": {},
          "execution_count": 33
        }
      ]
    },
    {
      "cell_type": "code",
      "source": [
        "a ='5'\n",
        "b =7\n",
        "a+b"
      ],
      "metadata": {
        "colab": {
          "base_uri": "https://localhost:8080/",
          "height": 176
        },
        "id": "cJXzqqUXYNIA",
        "outputId": "2d7901d1-98d8-4a62-9eda-c722482feb50"
      },
      "execution_count": null,
      "outputs": [
        {
          "output_type": "error",
          "ename": "TypeError",
          "evalue": "can only concatenate str (not \"int\") to str",
          "traceback": [
            "\u001b[0;31m---------------------------------------------------------------------------\u001b[0m",
            "\u001b[0;31mTypeError\u001b[0m                                 Traceback (most recent call last)",
            "\u001b[0;32m<ipython-input-34-aa5df4639e57>\u001b[0m in \u001b[0;36m<cell line: 3>\u001b[0;34m()\u001b[0m\n\u001b[1;32m      1\u001b[0m \u001b[0ma\u001b[0m \u001b[0;34m=\u001b[0m\u001b[0;34m'5'\u001b[0m\u001b[0;34m\u001b[0m\u001b[0;34m\u001b[0m\u001b[0m\n\u001b[1;32m      2\u001b[0m \u001b[0mb\u001b[0m \u001b[0;34m=\u001b[0m\u001b[0;36m7\u001b[0m\u001b[0;34m\u001b[0m\u001b[0;34m\u001b[0m\u001b[0m\n\u001b[0;32m----> 3\u001b[0;31m \u001b[0ma\u001b[0m\u001b[0;34m+\u001b[0m\u001b[0mb\u001b[0m\u001b[0;34m\u001b[0m\u001b[0;34m\u001b[0m\u001b[0m\n\u001b[0m",
            "\u001b[0;31mTypeError\u001b[0m: can only concatenate str (not \"int\") to str"
          ]
        }
      ]
    },
    {
      "cell_type": "code",
      "source": [
        "a = '5'\n",
        "b =4\n",
        "a*b"
      ],
      "metadata": {
        "colab": {
          "base_uri": "https://localhost:8080/",
          "height": 35
        },
        "id": "Vde7GmOVYUfa",
        "outputId": "62a330a3-b76c-4836-d44a-1d7335f73f7f"
      },
      "execution_count": null,
      "outputs": [
        {
          "output_type": "execute_result",
          "data": {
            "text/plain": [
              "'5555'"
            ],
            "application/vnd.google.colaboratory.intrinsic+json": {
              "type": "string"
            }
          },
          "metadata": {},
          "execution_count": 35
        }
      ]
    },
    {
      "cell_type": "code",
      "source": [
        "## Function definition my_add_fn that adds two numbers and return the value\n",
        "def my_add_fn(a,b):\n",
        "  a = float(a)\n",
        "  b = float(b)\n",
        "  return a+b\n",
        "\n",
        "a = input('Enter first number : ')\n",
        "b = input ('Enter second number: ')\n",
        "\n",
        "result = my_add_fn(a,b)\n",
        "print('Result: ', result)\n",
        "\n"
      ],
      "metadata": {
        "colab": {
          "base_uri": "https://localhost:8080/"
        },
        "id": "OU672-nFYijD",
        "outputId": "f735671b-575c-4fe6-d204-6f382296d610"
      },
      "execution_count": null,
      "outputs": [
        {
          "output_type": "stream",
          "name": "stdout",
          "text": [
            "Enter first number : 543.5\n",
            "Enter second number: 654.24\n",
            "Result:  1197.74\n"
          ]
        }
      ]
    },
    {
      "cell_type": "code",
      "source": [
        "a ='amit'\n",
        "a[0]"
      ],
      "metadata": {
        "colab": {
          "base_uri": "https://localhost:8080/",
          "height": 35
        },
        "id": "hio4IezEbQzS",
        "outputId": "fa939b36-3154-442a-b07a-ecd136957bde"
      },
      "execution_count": null,
      "outputs": [
        {
          "output_type": "execute_result",
          "data": {
            "text/plain": [
              "'a'"
            ],
            "application/vnd.google.colaboratory.intrinsic+json": {
              "type": "string"
            }
          },
          "metadata": {},
          "execution_count": 47
        }
      ]
    },
    {
      "cell_type": "code",
      "source": [
        "a[2]"
      ],
      "metadata": {
        "colab": {
          "base_uri": "https://localhost:8080/",
          "height": 35
        },
        "id": "NKLJgCngbyrk",
        "outputId": "f89a3eab-1497-42af-bf79-74aa983f72d6"
      },
      "execution_count": null,
      "outputs": [
        {
          "output_type": "execute_result",
          "data": {
            "text/plain": [
              "'i'"
            ],
            "application/vnd.google.colaboratory.intrinsic+json": {
              "type": "string"
            }
          },
          "metadata": {},
          "execution_count": 41
        }
      ]
    },
    {
      "cell_type": "code",
      "source": [
        "a[-1]"
      ],
      "metadata": {
        "colab": {
          "base_uri": "https://localhost:8080/",
          "height": 35
        },
        "id": "a3vZ-L_6b2G3",
        "outputId": "18080a4a-34be-42d0-cc4c-9297ef68b843"
      },
      "execution_count": null,
      "outputs": [
        {
          "output_type": "execute_result",
          "data": {
            "text/plain": [
              "'t'"
            ],
            "application/vnd.google.colaboratory.intrinsic+json": {
              "type": "string"
            }
          },
          "metadata": {},
          "execution_count": 42
        }
      ]
    },
    {
      "cell_type": "code",
      "source": [
        "a[-4]"
      ],
      "metadata": {
        "colab": {
          "base_uri": "https://localhost:8080/",
          "height": 35
        },
        "id": "DfNexRVeb6kx",
        "outputId": "59a76a3a-434c-436e-dcc0-337bbe334572"
      },
      "execution_count": null,
      "outputs": [
        {
          "output_type": "execute_result",
          "data": {
            "text/plain": [
              "'a'"
            ],
            "application/vnd.google.colaboratory.intrinsic+json": {
              "type": "string"
            }
          },
          "metadata": {},
          "execution_count": 43
        }
      ]
    },
    {
      "cell_type": "code",
      "source": [
        "a[-5]"
      ],
      "metadata": {
        "colab": {
          "base_uri": "https://localhost:8080/",
          "height": 141
        },
        "id": "ogZrxl7zcRQ0",
        "outputId": "8d2c65ee-1b96-42df-a6ed-345aa85d16a6"
      },
      "execution_count": null,
      "outputs": [
        {
          "output_type": "error",
          "ename": "IndexError",
          "evalue": "string index out of range",
          "traceback": [
            "\u001b[0;31m---------------------------------------------------------------------------\u001b[0m",
            "\u001b[0;31mIndexError\u001b[0m                                Traceback (most recent call last)",
            "\u001b[0;32m<ipython-input-48-dadeaba0f55e>\u001b[0m in \u001b[0;36m<cell line: 1>\u001b[0;34m()\u001b[0m\n\u001b[0;32m----> 1\u001b[0;31m \u001b[0ma\u001b[0m\u001b[0;34m[\u001b[0m\u001b[0;34m-\u001b[0m\u001b[0;36m5\u001b[0m\u001b[0;34m]\u001b[0m\u001b[0;34m\u001b[0m\u001b[0;34m\u001b[0m\u001b[0m\n\u001b[0m",
            "\u001b[0;31mIndexError\u001b[0m: string index out of range"
          ]
        }
      ]
    },
    {
      "cell_type": "code",
      "source": [
        "## string is immutable\n",
        "a = 'amit'\n",
        "print(id(a))\n",
        "a =a +'005' ##String manipulation is creating new variable with new memory location given by id()\n",
        "print(id(a))\n"
      ],
      "metadata": {
        "colab": {
          "base_uri": "https://localhost:8080/"
        },
        "id": "fhbPkCXNcSai",
        "outputId": "a7fb9d5a-e452-48ce-8df5-515a5d348d36"
      },
      "execution_count": null,
      "outputs": [
        {
          "output_type": "stream",
          "name": "stdout",
          "text": [
            "132356388097584\n",
            "132356388584432\n"
          ]
        }
      ]
    },
    {
      "cell_type": "code",
      "source": [
        "text = 'My name is Mike'\n",
        "# text[startIndex:stopIndex:step]\n",
        "text[0:10:2]"
      ],
      "metadata": {
        "colab": {
          "base_uri": "https://localhost:8080/",
          "height": 35
        },
        "id": "o1bhaM1keRup",
        "outputId": "25c203c7-31c1-4757-c51e-62b2c83f0d5d"
      },
      "execution_count": null,
      "outputs": [
        {
          "output_type": "execute_result",
          "data": {
            "text/plain": [
              "'M aei'"
            ],
            "application/vnd.google.colaboratory.intrinsic+json": {
              "type": "string"
            }
          },
          "metadata": {},
          "execution_count": 54
        }
      ]
    },
    {
      "cell_type": "code",
      "source": [
        "text[-4:-1]"
      ],
      "metadata": {
        "colab": {
          "base_uri": "https://localhost:8080/",
          "height": 35
        },
        "id": "9jz9EV5Oe1jI",
        "outputId": "c4799949-2674-48d9-d173-7860f2e8d16d"
      },
      "execution_count": null,
      "outputs": [
        {
          "output_type": "execute_result",
          "data": {
            "text/plain": [
              "'Mik'"
            ],
            "application/vnd.google.colaboratory.intrinsic+json": {
              "type": "string"
            }
          },
          "metadata": {},
          "execution_count": 57
        }
      ]
    },
    {
      "cell_type": "code",
      "source": [
        "text[4:-3]"
      ],
      "metadata": {
        "colab": {
          "base_uri": "https://localhost:8080/",
          "height": 35
        },
        "id": "v8S0Ay-afPgO",
        "outputId": "605395ea-6bcb-477d-c26c-228fc61769ce"
      },
      "execution_count": null,
      "outputs": [
        {
          "output_type": "execute_result",
          "data": {
            "text/plain": [
              "'ame is M'"
            ],
            "application/vnd.google.colaboratory.intrinsic+json": {
              "type": "string"
            }
          },
          "metadata": {},
          "execution_count": 58
        }
      ]
    },
    {
      "cell_type": "code",
      "source": [
        "dir(str) ## gives the avaiable functions of string"
      ],
      "metadata": {
        "colab": {
          "base_uri": "https://localhost:8080/"
        },
        "collapsed": true,
        "id": "HbWIa95-gU2w",
        "outputId": "26206010-2413-427a-c929-6a49110458ad"
      },
      "execution_count": null,
      "outputs": [
        {
          "output_type": "execute_result",
          "data": {
            "text/plain": [
              "['__add__',\n",
              " '__class__',\n",
              " '__contains__',\n",
              " '__delattr__',\n",
              " '__dir__',\n",
              " '__doc__',\n",
              " '__eq__',\n",
              " '__format__',\n",
              " '__ge__',\n",
              " '__getattribute__',\n",
              " '__getitem__',\n",
              " '__getnewargs__',\n",
              " '__gt__',\n",
              " '__hash__',\n",
              " '__init__',\n",
              " '__init_subclass__',\n",
              " '__iter__',\n",
              " '__le__',\n",
              " '__len__',\n",
              " '__lt__',\n",
              " '__mod__',\n",
              " '__mul__',\n",
              " '__ne__',\n",
              " '__new__',\n",
              " '__reduce__',\n",
              " '__reduce_ex__',\n",
              " '__repr__',\n",
              " '__rmod__',\n",
              " '__rmul__',\n",
              " '__setattr__',\n",
              " '__sizeof__',\n",
              " '__str__',\n",
              " '__subclasshook__',\n",
              " 'capitalize',\n",
              " 'casefold',\n",
              " 'center',\n",
              " 'count',\n",
              " 'encode',\n",
              " 'endswith',\n",
              " 'expandtabs',\n",
              " 'find',\n",
              " 'format',\n",
              " 'format_map',\n",
              " 'index',\n",
              " 'isalnum',\n",
              " 'isalpha',\n",
              " 'isascii',\n",
              " 'isdecimal',\n",
              " 'isdigit',\n",
              " 'isidentifier',\n",
              " 'islower',\n",
              " 'isnumeric',\n",
              " 'isprintable',\n",
              " 'isspace',\n",
              " 'istitle',\n",
              " 'isupper',\n",
              " 'join',\n",
              " 'ljust',\n",
              " 'lower',\n",
              " 'lstrip',\n",
              " 'maketrans',\n",
              " 'partition',\n",
              " 'removeprefix',\n",
              " 'removesuffix',\n",
              " 'replace',\n",
              " 'rfind',\n",
              " 'rindex',\n",
              " 'rjust',\n",
              " 'rpartition',\n",
              " 'rsplit',\n",
              " 'rstrip',\n",
              " 'split',\n",
              " 'splitlines',\n",
              " 'startswith',\n",
              " 'strip',\n",
              " 'swapcase',\n",
              " 'title',\n",
              " 'translate',\n",
              " 'upper',\n",
              " 'zfill']"
            ]
          },
          "metadata": {},
          "execution_count": 59
        }
      ]
    },
    {
      "cell_type": "code",
      "source": [
        "a = 'Mike00989'\n",
        "a.replace('0','1', 1)\n"
      ],
      "metadata": {
        "colab": {
          "base_uri": "https://localhost:8080/",
          "height": 35
        },
        "id": "ZIFziJNogjwH",
        "outputId": "e5d53314-eec1-4ba8-85a6-c3d215bf88b8"
      },
      "execution_count": null,
      "outputs": [
        {
          "output_type": "execute_result",
          "data": {
            "text/plain": [
              "'Mike10989'"
            ],
            "application/vnd.google.colaboratory.intrinsic+json": {
              "type": "string"
            }
          },
          "metadata": {},
          "execution_count": 65
        }
      ]
    },
    {
      "cell_type": "markdown",
      "source": [
        "**Control flow**"
      ],
      "metadata": {
        "id": "O9exYkLoioAL"
      }
    },
    {
      "cell_type": "code",
      "source": [
        "# if(Boolean condition):\n",
        "#   actions- a\n",
        "# else:\n",
        "#   actions- b\n"
      ],
      "metadata": {
        "id": "bL0iFqYWhDl9"
      },
      "execution_count": null,
      "outputs": []
    },
    {
      "cell_type": "code",
      "source": [
        "## write code to iterate over all the alphabets and print whether its a vowel or consonants\n",
        "# expected output-\n",
        "# A- vowel\n",
        "# B- Consonant\n",
        "\n",
        "vowels = ['A', 'E', 'I', 'O', 'U']\n",
        "for i in ['A','B','C', 'D', 'E','F','G','H','I','J','K','L','M','N','O','P','Q','R','S','T','U','V','W','X','Y','Z']:\n",
        "  if i in vowels:\n",
        "    print(i +'- '+'vowel')\n",
        "  else:\n",
        "    print(i +'- '+'consonant')"
      ],
      "metadata": {
        "colab": {
          "base_uri": "https://localhost:8080/"
        },
        "collapsed": true,
        "id": "8E1eCZewnROM",
        "outputId": "c28287c9-a808-4840-d644-70f981b47612"
      },
      "execution_count": null,
      "outputs": [
        {
          "output_type": "stream",
          "name": "stdout",
          "text": [
            "A- vowel\n",
            "B- consonant\n",
            "C- consonant\n",
            "D- consonant\n",
            "E- vowel\n",
            "F- consonant\n",
            "G- consonant\n",
            "H- consonant\n",
            "I- vowel\n",
            "J- consonant\n",
            "K- consonant\n",
            "L- consonant\n",
            "M- consonant\n",
            "N- consonant\n",
            "O- vowel\n",
            "P- consonant\n",
            "Q- consonant\n",
            "R- consonant\n",
            "S- consonant\n",
            "T- consonant\n",
            "U- vowel\n",
            "V- consonant\n",
            "W- consonant\n",
            "X- consonant\n",
            "Y- consonant\n",
            "Z- consonant\n"
          ]
        }
      ]
    },
    {
      "cell_type": "code",
      "source": [
        "alphabets='ABCDEFGHIJKLMNOPQRSTUVWXYZ';\n",
        "vowels = 'AEIOU'\n",
        "for i in alphabets:\n",
        "  if i in vowels:\n",
        "    print(f\"{i} - Vowel\")\n",
        "  else:\n",
        "    print(f\"{i} - Consonant\")"
      ],
      "metadata": {
        "colab": {
          "base_uri": "https://localhost:8080/"
        },
        "collapsed": true,
        "id": "rG6N0qKfowdy",
        "outputId": "1f719ba4-e462-4da1-d2c4-ab29aeaf2736"
      },
      "execution_count": null,
      "outputs": [
        {
          "output_type": "stream",
          "name": "stdout",
          "text": [
            "A - Vowel\n",
            "B - Consonant\n",
            "C - Consonant\n",
            "D - Consonant\n",
            "E - Vowel\n",
            "F - Consonant\n",
            "G - Consonant\n",
            "H - Consonant\n",
            "I - Vowel\n",
            "J - Consonant\n",
            "K - Consonant\n",
            "L - Consonant\n",
            "M - Consonant\n",
            "N - Consonant\n",
            "O - Vowel\n",
            "P - Consonant\n",
            "Q - Consonant\n",
            "R - Consonant\n",
            "S - Consonant\n",
            "T - Consonant\n",
            "U - Vowel\n",
            "V - Consonant\n",
            "W - Consonant\n",
            "X - Consonant\n",
            "Y - Consonant\n",
            "Z - Consonant\n"
          ]
        }
      ]
    },
    {
      "cell_type": "code",
      "source": [
        "import string # string library to get all alphabets\n",
        "vowels='AIOUE'\n",
        "for alpha in string.ascii_uppercase:\n",
        "  if alpha in vowels:\n",
        "    print(f\"{alpha} - Vowel\")\n",
        "  else:\n",
        "    print(f\"{alpha} - Consonant\")"
      ],
      "metadata": {
        "colab": {
          "base_uri": "https://localhost:8080/"
        },
        "collapsed": true,
        "id": "w0w6vsR5pb06",
        "outputId": "85c4af84-859d-407e-eff9-c7cfdf5999ea"
      },
      "execution_count": null,
      "outputs": [
        {
          "output_type": "stream",
          "name": "stdout",
          "text": [
            "A - Vowel\n",
            "B - Consonant\n",
            "C - Consonant\n",
            "D - Consonant\n",
            "E - Vowel\n",
            "F - Consonant\n",
            "G - Consonant\n",
            "H - Consonant\n",
            "I - Vowel\n",
            "J - Consonant\n",
            "K - Consonant\n",
            "L - Consonant\n",
            "M - Consonant\n",
            "N - Consonant\n",
            "O - Vowel\n",
            "P - Consonant\n",
            "Q - Consonant\n",
            "R - Consonant\n",
            "S - Consonant\n",
            "T - Consonant\n",
            "U - Vowel\n",
            "V - Consonant\n",
            "W - Consonant\n",
            "X - Consonant\n",
            "Y - Consonant\n",
            "Z - Consonant\n"
          ]
        }
      ]
    },
    {
      "cell_type": "code",
      "source": [
        "## Check if a string is palindrome\n",
        "\n",
        "def is_palindrome(input):\n",
        "  n = len(input) -1\n",
        "  for ch in range(len(input)):\n",
        "    if input[ch] != input[n-ch]:\n",
        "      return False\n",
        "  return True\n",
        "input = 'radar'\n",
        "print(is_palindrome(input))"
      ],
      "metadata": {
        "colab": {
          "base_uri": "https://localhost:8080/"
        },
        "id": "b9eOYd3jp6ee",
        "outputId": "ea221e5a-ffa7-4146-8625-26e0de4407d1"
      },
      "execution_count": null,
      "outputs": [
        {
          "output_type": "stream",
          "name": "stdout",
          "text": [
            "True\n"
          ]
        }
      ]
    },
    {
      "cell_type": "code",
      "source": [
        "def is_palindrome(input):\n",
        "  if input == input[::-1]:\n",
        "    return True\n",
        "  else:\n",
        "    return False\n",
        "print(is_palindrome('radar'))"
      ],
      "metadata": {
        "colab": {
          "base_uri": "https://localhost:8080/"
        },
        "id": "ndJV2krSv6KP",
        "outputId": "e4c18797-cc7a-424b-901f-b4413d71b099"
      },
      "execution_count": null,
      "outputs": [
        {
          "output_type": "stream",
          "name": "stdout",
          "text": [
            "True\n"
          ]
        }
      ]
    },
    {
      "cell_type": "code",
      "source": [
        "reversed_string = ''.join(reversed(\"Hello, World!\"))\n",
        "print(reversed_string)"
      ],
      "metadata": {
        "colab": {
          "base_uri": "https://localhost:8080/"
        },
        "id": "TlNhLEOzwUu3",
        "outputId": "dabfcebe-7d55-43de-fbd0-c460e64d4c6e"
      },
      "execution_count": null,
      "outputs": [
        {
          "output_type": "stream",
          "name": "stdout",
          "text": [
            "!dlroW ,olleH\n"
          ]
        }
      ]
    },
    {
      "cell_type": "code",
      "source": [],
      "metadata": {
        "id": "cmEHw9wjyhGE"
      },
      "execution_count": null,
      "outputs": []
    }
  ]
}